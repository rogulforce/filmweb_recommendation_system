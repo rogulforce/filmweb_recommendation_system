{
 "cells": [
  {
   "cell_type": "code",
   "execution_count": 17,
   "id": "06d4e0c8",
   "metadata": {},
   "outputs": [
    {
     "name": "stdout",
     "output_type": "stream",
     "text": [
      "The autoreload extension is already loaded. To reload it, use:\n",
      "  %reload_ext autoreload\n"
     ]
    }
   ],
   "source": [
    "%load_ext autoreload\n",
    "%autoreload 2"
   ]
  },
  {
   "cell_type": "code",
   "execution_count": 22,
   "id": "b8de384d",
   "metadata": {},
   "outputs": [],
   "source": [
    "from data_import import clean_and_save_data, load_data"
   ]
  },
  {
   "cell_type": "markdown",
   "id": "a934afb5",
   "metadata": {},
   "source": [
    "# Data Preparation"
   ]
  },
  {
   "cell_type": "markdown",
   "id": "a7782fa8",
   "metadata": {},
   "source": [
    "Firstly, you have to properly process data from pickle files. Use `clean_and_save_data`"
   ]
  },
  {
   "cell_type": "code",
   "execution_count": 23,
   "id": "7c70e93b",
   "metadata": {},
   "outputs": [],
   "source": [
    "df_user, df_movie = clean_and_save_data()"
   ]
  },
  {
   "cell_type": "markdown",
   "id": "1507ba69",
   "metadata": {},
   "source": [
    "`df1` and `df2` will be saved to csv files. After running `clean_and_save_data`. For further analysis you can simply run `load_data` method"
   ]
  },
  {
   "cell_type": "code",
   "execution_count": 20,
   "id": "8f7403ab",
   "metadata": {},
   "outputs": [],
   "source": [
    "df_user, df_movie = load_data()"
   ]
  },
  {
   "cell_type": "code",
   "execution_count": 21,
   "id": "290fc210",
   "metadata": {},
   "outputs": [
    {
     "data": {
      "text/plain": "        User            Title  Year  Rating\n0  79villemo  Cząstki kobiety  2020     7.0\n1  79villemo   Palmy w śniegu  2015     7.0\n2  79villemo    Małe kobietki  2019     8.0\n3  79villemo    Kwiat pustyni  2009     7.0\n4  79villemo               To  2017     6.0",
      "text/html": "<div>\n<style scoped>\n    .dataframe tbody tr th:only-of-type {\n        vertical-align: middle;\n    }\n\n    .dataframe tbody tr th {\n        vertical-align: top;\n    }\n\n    .dataframe thead th {\n        text-align: right;\n    }\n</style>\n<table border=\"1\" class=\"dataframe\">\n  <thead>\n    <tr style=\"text-align: right;\">\n      <th></th>\n      <th>User</th>\n      <th>Title</th>\n      <th>Year</th>\n      <th>Rating</th>\n    </tr>\n  </thead>\n  <tbody>\n    <tr>\n      <th>0</th>\n      <td>79villemo</td>\n      <td>Cząstki kobiety</td>\n      <td>2020</td>\n      <td>7.0</td>\n    </tr>\n    <tr>\n      <th>1</th>\n      <td>79villemo</td>\n      <td>Palmy w śniegu</td>\n      <td>2015</td>\n      <td>7.0</td>\n    </tr>\n    <tr>\n      <th>2</th>\n      <td>79villemo</td>\n      <td>Małe kobietki</td>\n      <td>2019</td>\n      <td>8.0</td>\n    </tr>\n    <tr>\n      <th>3</th>\n      <td>79villemo</td>\n      <td>Kwiat pustyni</td>\n      <td>2009</td>\n      <td>7.0</td>\n    </tr>\n    <tr>\n      <th>4</th>\n      <td>79villemo</td>\n      <td>To</td>\n      <td>2017</td>\n      <td>6.0</td>\n    </tr>\n  </tbody>\n</table>\n</div>"
     },
     "execution_count": 21,
     "metadata": {},
     "output_type": "execute_result"
    }
   ],
   "source": [
    "df_user.head()"
   ]
  },
  {
   "cell_type": "code",
   "execution_count": 7,
   "outputs": [
    {
     "data": {
      "text/plain": "User       313\nTitle     7777\nRating      10\ndtype: int64"
     },
     "execution_count": 7,
     "metadata": {},
     "output_type": "execute_result"
    }
   ],
   "source": [
    "df_user.nunique()"
   ],
   "metadata": {
    "collapsed": false,
    "pycharm": {
     "name": "#%%\n"
    }
   }
  },
  {
   "cell_type": "code",
   "execution_count": 8,
   "outputs": [
    {
     "data": {
      "text/plain": "37119"
     },
     "execution_count": 8,
     "metadata": {},
     "output_type": "execute_result"
    }
   ],
   "source": [
    "len(df_user)"
   ],
   "metadata": {
    "collapsed": false,
    "pycharm": {
     "name": "#%%\n"
    }
   }
  },
  {
   "cell_type": "code",
   "execution_count": 9,
   "id": "68760310",
   "metadata": {},
   "outputs": [
    {
     "data": {
      "text/plain": "             Title  Year       Genre           Actor  Avg_rating  \\\n0  Cząstki kobiety  2020      Dramat   Vanessa Kirby         7.1   \n1  Cząstki kobiety  2020      Dramat    Shia LaBeouf         7.1   \n2   Palmy w śniegu  2015      Dramat     Mario Casas         7.6   \n3   Palmy w śniegu  2015      Dramat  Adriana Ugarte         7.6   \n4    Małe kobietki  2019  Melodramat   Saoirse Ronan         7.4   \n\n   Number_of_ratings  \n0              26670  \n1              26670  \n2              17870  \n3              17870  \n4              69798  ",
      "text/html": "<div>\n<style scoped>\n    .dataframe tbody tr th:only-of-type {\n        vertical-align: middle;\n    }\n\n    .dataframe tbody tr th {\n        vertical-align: top;\n    }\n\n    .dataframe thead th {\n        text-align: right;\n    }\n</style>\n<table border=\"1\" class=\"dataframe\">\n  <thead>\n    <tr style=\"text-align: right;\">\n      <th></th>\n      <th>Title</th>\n      <th>Year</th>\n      <th>Genre</th>\n      <th>Actor</th>\n      <th>Avg_rating</th>\n      <th>Number_of_ratings</th>\n    </tr>\n  </thead>\n  <tbody>\n    <tr>\n      <th>0</th>\n      <td>Cząstki kobiety</td>\n      <td>2020</td>\n      <td>Dramat</td>\n      <td>Vanessa Kirby</td>\n      <td>7.1</td>\n      <td>26670</td>\n    </tr>\n    <tr>\n      <th>1</th>\n      <td>Cząstki kobiety</td>\n      <td>2020</td>\n      <td>Dramat</td>\n      <td>Shia LaBeouf</td>\n      <td>7.1</td>\n      <td>26670</td>\n    </tr>\n    <tr>\n      <th>2</th>\n      <td>Palmy w śniegu</td>\n      <td>2015</td>\n      <td>Dramat</td>\n      <td>Mario Casas</td>\n      <td>7.6</td>\n      <td>17870</td>\n    </tr>\n    <tr>\n      <th>3</th>\n      <td>Palmy w śniegu</td>\n      <td>2015</td>\n      <td>Dramat</td>\n      <td>Adriana Ugarte</td>\n      <td>7.6</td>\n      <td>17870</td>\n    </tr>\n    <tr>\n      <th>4</th>\n      <td>Małe kobietki</td>\n      <td>2019</td>\n      <td>Melodramat</td>\n      <td>Saoirse Ronan</td>\n      <td>7.4</td>\n      <td>69798</td>\n    </tr>\n  </tbody>\n</table>\n</div>"
     },
     "execution_count": 9,
     "metadata": {},
     "output_type": "execute_result"
    }
   ],
   "source": [
    "df_movie.head()"
   ]
  },
  {
   "cell_type": "code",
   "execution_count": 10,
   "id": "07ef44c9",
   "metadata": {},
   "outputs": [
    {
     "data": {
      "text/plain": "Title                7777\nYear                  111\nGenre                 101\nActor                7274\nAvg_rating            538\nNumber_of_ratings    8740\ndtype: int64"
     },
     "execution_count": 10,
     "metadata": {},
     "output_type": "execute_result"
    }
   ],
   "source": [
    "df_movie.nunique()"
   ]
  },
  {
   "cell_type": "code",
   "execution_count": 11,
   "id": "b1bf6f38",
   "metadata": {
    "pycharm": {
     "name": "#%%\n"
    }
   },
   "outputs": [
    {
     "data": {
      "text/plain": "36739"
     },
     "execution_count": 11,
     "metadata": {},
     "output_type": "execute_result"
    }
   ],
   "source": [
    "len(df_movie)"
   ]
  }
 ],
 "metadata": {
  "kernelspec": {
   "name": "python3",
   "language": "python",
   "display_name": "Python 3 (ipykernel)"
  },
  "language_info": {
   "codemirror_mode": {
    "name": "ipython",
    "version": 3
   },
   "file_extension": ".py",
   "mimetype": "text/x-python",
   "name": "python",
   "nbconvert_exporter": "python",
   "pygments_lexer": "ipython3",
   "version": "3.9.13"
  }
 },
 "nbformat": 4,
 "nbformat_minor": 5
}