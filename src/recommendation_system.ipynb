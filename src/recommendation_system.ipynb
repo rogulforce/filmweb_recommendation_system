{
 "cells": [
  {
   "cell_type": "code",
   "execution_count": 2,
   "metadata": {
    "collapsed": true
   },
   "outputs": [],
   "source": [
    "from __future__ import annotations\n",
    "\n",
    "%load_ext autoreload\n",
    "%autoreload 2"
   ]
  },
  {
   "cell_type": "code",
   "execution_count": 3,
   "outputs": [],
   "source": [
    "from typing import Union\n",
    "\n",
    "from data_import import load_data\n",
    "from abc import ABC, abstractmethod\n",
    "import pandas as pd\n",
    "import numpy as np\n",
    "\n",
    "from surprise import KNNWithMeans,SVD, Dataset, Reader, accuracy\n",
    "from surprise.model_selection import train_test_split"
   ],
   "metadata": {
    "collapsed": false,
    "pycharm": {
     "name": "#%%\n"
    }
   }
  },
  {
   "cell_type": "code",
   "execution_count": 4,
   "outputs": [],
   "source": [
    "# import data\n",
    "df_user, df_movie = load_data()"
   ],
   "metadata": {
    "collapsed": false,
    "pycharm": {
     "name": "#%%\n"
    }
   }
  },
  {
   "cell_type": "markdown",
   "source": [
    "Data cleaning"
   ],
   "metadata": {
    "collapsed": false,
    "pycharm": {
     "name": "#%% md\n"
    }
   }
  },
  {
   "cell_type": "code",
   "execution_count": 5,
   "outputs": [],
   "source": [
    "df_movie = df_movie[df_movie['Avg_rating']<=10]\n",
    "\n",
    "concat = lambda df, col1, col2: df[col1].astype(str) + \"_\" + df[col2].astype(str)\n",
    "\n",
    "df_movie['Title'] = concat(df_movie,'Title','Year')\n",
    "df_user['Title'] = concat(df_user,'Title','Year')\n",
    "df_user = df_user.drop(columns='Year')"
   ],
   "metadata": {
    "collapsed": false,
    "pycharm": {
     "name": "#%%\n"
    }
   }
  },
  {
   "cell_type": "markdown",
   "source": [
    "Feature engineering"
   ],
   "metadata": {
    "collapsed": false,
    "pycharm": {
     "name": "#%% md\n"
    }
   }
  },
  {
   "cell_type": "code",
   "execution_count": 6,
   "outputs": [],
   "source": [
    "# percentage difference between user rating and average rating (user-avg)\n",
    "\n",
    "df_user_temp = df_user.merge(df_movie.groupby(['Title'])['Avg_rating'].max().reset_index(), on=['Title'], how='left')\n",
    "\n",
    "df_user['Avg_user_rating_diff'] = (df_user_temp['Rating'] - df_user_temp['Avg_rating'])\n",
    "\n",
    "df_user = df_user.dropna()"
   ],
   "metadata": {
    "collapsed": false,
    "pycharm": {
     "name": "#%%\n"
    }
   }
  },
  {
   "cell_type": "code",
   "execution_count": 7,
   "outputs": [],
   "source": [
    "# Mapping users to numbers\n",
    "user_dict = {user: i for i, user in enumerate(df_user.User.unique())}\n",
    "movie_dict = {title: i for i, title in enumerate(df_movie.Title.unique())}\n",
    "\n",
    "df_user[['User','Title']] = df_user[['User','Title']].agg({'User': lambda x: user_dict[x], 'Title': lambda x: movie_dict[x]})\n",
    "df_movie[['Title']] = df_movie[['Title']].agg({'Title': lambda x: movie_dict[x]})"
   ],
   "metadata": {
    "collapsed": false,
    "pycharm": {
     "name": "#%%\n"
    }
   }
  },
  {
   "cell_type": "markdown",
   "source": [],
   "metadata": {
    "collapsed": false,
    "pycharm": {
     "name": "#%% md\n"
    }
   }
  },
  {
   "cell_type": "code",
   "execution_count": 8,
   "outputs": [],
   "source": [
    "# TODO: change that to get only subset of the movies.\n",
    "\n",
    "val_user_list = [user_dict[it] for it in ['sokoly35', 'honorciak', 'piotrr99']]\n",
    "df_user_validation = df_user[df_user['User'].isin(val_user_list)]\n",
    "\n",
    "# exclude us from df_user\n",
    "df_user = df_user[~df_user.index.isin(df_user_validation.index)]"
   ],
   "metadata": {
    "collapsed": false,
    "pycharm": {
     "name": "#%%\n"
    }
   }
  },
  {
   "cell_type": "code",
   "execution_count": 9,
   "outputs": [
    {
     "data": {
      "text/plain": "       User  Title  Rating  Avg_user_rating_diff\n9900     82   5744     9.0                   0.2\n9901     82   7433    10.0                   1.4\n9902     82    318     6.0                  -0.5\n9903     82   2148     3.0                  -4.6\n9904     82   1171     7.0                   0.1\n...     ...    ...     ...                   ...\n32486   261   6264     8.0                   0.4\n32487   261   2469     7.0                  -0.6\n32488   261   2409     7.0                  -0.4\n32489   261   7447     5.0                  -2.2\n32490   261   1268     7.0                  -0.6\n\n[247 rows x 4 columns]",
      "text/html": "<div>\n<style scoped>\n    .dataframe tbody tr th:only-of-type {\n        vertical-align: middle;\n    }\n\n    .dataframe tbody tr th {\n        vertical-align: top;\n    }\n\n    .dataframe thead th {\n        text-align: right;\n    }\n</style>\n<table border=\"1\" class=\"dataframe\">\n  <thead>\n    <tr style=\"text-align: right;\">\n      <th></th>\n      <th>User</th>\n      <th>Title</th>\n      <th>Rating</th>\n      <th>Avg_user_rating_diff</th>\n    </tr>\n  </thead>\n  <tbody>\n    <tr>\n      <th>9900</th>\n      <td>82</td>\n      <td>5744</td>\n      <td>9.0</td>\n      <td>0.2</td>\n    </tr>\n    <tr>\n      <th>9901</th>\n      <td>82</td>\n      <td>7433</td>\n      <td>10.0</td>\n      <td>1.4</td>\n    </tr>\n    <tr>\n      <th>9902</th>\n      <td>82</td>\n      <td>318</td>\n      <td>6.0</td>\n      <td>-0.5</td>\n    </tr>\n    <tr>\n      <th>9903</th>\n      <td>82</td>\n      <td>2148</td>\n      <td>3.0</td>\n      <td>-4.6</td>\n    </tr>\n    <tr>\n      <th>9904</th>\n      <td>82</td>\n      <td>1171</td>\n      <td>7.0</td>\n      <td>0.1</td>\n    </tr>\n    <tr>\n      <th>...</th>\n      <td>...</td>\n      <td>...</td>\n      <td>...</td>\n      <td>...</td>\n    </tr>\n    <tr>\n      <th>32486</th>\n      <td>261</td>\n      <td>6264</td>\n      <td>8.0</td>\n      <td>0.4</td>\n    </tr>\n    <tr>\n      <th>32487</th>\n      <td>261</td>\n      <td>2469</td>\n      <td>7.0</td>\n      <td>-0.6</td>\n    </tr>\n    <tr>\n      <th>32488</th>\n      <td>261</td>\n      <td>2409</td>\n      <td>7.0</td>\n      <td>-0.4</td>\n    </tr>\n    <tr>\n      <th>32489</th>\n      <td>261</td>\n      <td>7447</td>\n      <td>5.0</td>\n      <td>-2.2</td>\n    </tr>\n    <tr>\n      <th>32490</th>\n      <td>261</td>\n      <td>1268</td>\n      <td>7.0</td>\n      <td>-0.6</td>\n    </tr>\n  </tbody>\n</table>\n<p>247 rows × 4 columns</p>\n</div>"
     },
     "execution_count": 9,
     "metadata": {},
     "output_type": "execute_result"
    }
   ],
   "source": [
    "df_user_validation"
   ],
   "metadata": {
    "collapsed": false,
    "pycharm": {
     "name": "#%%\n"
    }
   }
  },
  {
   "cell_type": "markdown",
   "source": [
    "# 0. model"
   ],
   "metadata": {
    "collapsed": false,
    "pycharm": {
     "name": "#%% md\n"
    }
   }
  },
  {
   "cell_type": "code",
   "execution_count": 10,
   "outputs": [],
   "source": [
    "class BaseRecommender(ABC):\n",
    "    def __init__(self, df_user: pd.DataFrame, df_movie: pd.DataFrame):\n",
    "        self.df_user = df_user\n",
    "        self.df_movie = df_movie\n",
    "\n",
    "    \"\"\" Base abstract class for recommendation techniques.\"\"\"\n",
    "    def train(self, df_user: Union[pd.DataFrame, None], **kwargs):\n",
    "        raise NotImplementedError\n",
    "    def predict(self, df_user: pd.DataFrame, num_of_recomendations: int, **kwargs):\n",
    "        raise NotImplementedError"
   ],
   "metadata": {
    "collapsed": false,
    "pycharm": {
     "name": "#%%\n"
    }
   }
  },
  {
   "cell_type": "code",
   "execution_count": 11,
   "outputs": [],
   "source": [
    "# decode users and movies\n",
    "def decode(df):\n",
    "    user_dict_decoder = {val: key for key, val in user_dict.items()}\n",
    "    movie_dict_decoder = {val: key for key, val in movie_dict.items()}\n",
    "    df_cols = df.columns\n",
    "    if 'User' in df_cols:\n",
    "        df['User'] = df['User'].agg(lambda x: user_dict_decoder[x])\n",
    "    if 'Title' in df_cols:\n",
    "        df['Title'] = df['Title'].agg(lambda x: movie_dict_decoder[x])\n",
    "    return df"
   ],
   "metadata": {
    "collapsed": false,
    "pycharm": {
     "name": "#%%\n"
    }
   }
  },
  {
   "cell_type": "markdown",
   "source": [
    "# 1. User cold start\n",
    "* recommendation based on popularity and overall rating of the movie for users with not many rated movies\n",
    "* we have no data about the user (age, gender, ...) so we don't use it as a feature in collaborative filtering."
   ],
   "metadata": {
    "collapsed": false,
    "pycharm": {
     "name": "#%% md\n"
    }
   }
  },
  {
   "cell_type": "code",
   "execution_count": 12,
   "outputs": [],
   "source": [
    "class UCSRecommender(BaseRecommender):\n",
    "    \"\"\" user cold start recommender.\n",
    "    Take n_top_movies and recommend them in order based on Avg_rating.\"\"\"\n",
    "    recommendation_table = None\n",
    "\n",
    "    def train(self, df_user: Union[pd.DataFrame, None], n_top_movies: int = 20, **kwargs):\n",
    "        self.recommendation_table = df_movie.groupby(['Title'])[['Avg_rating', 'Number_of_ratings']].min().reset_index().sort_values('Number_of_ratings', ascending=False).head(n_top_movies).sort_values('Avg_rating', ascending=False)\n",
    "\n",
    "    def predict(self, df_user: pd.DataFrame, num_of_recomendations: int, **kwargs):\n",
    "        recommendations = pd.DataFrame(columns=['User', 'Title'])\n",
    "        for user in df_user['User'].unique():\n",
    "            recommendations_for_user = self.recommendation_table.head(num_of_recomendations)[['Title']]\n",
    "            recommendations_for_user['User'] = user\n",
    "            recommendations = pd.concat([recommendations, recommendations_for_user])\n",
    "        return recommendations"
   ],
   "metadata": {
    "collapsed": false,
    "pycharm": {
     "name": "#%%\n"
    }
   }
  },
  {
   "cell_type": "code",
   "execution_count": 14,
   "outputs": [
    {
     "data": {
      "text/plain": "           User                                        Title\n5744  honorciak                    Skazani na Shawshank_1994\n7433  honorciak                            Zielona mila_1999\n4163  honorciak                              Nietykalni_2011\n1867  honorciak                            Forrest Gump_1994\n5264  honorciak                            Pulp Fiction_1994\n3621  honorciak                         Milczenie owiec_1991\n3258  honorciak                         Leon zawodowiec_1994\n6077  honorciak                        Szeregowiec Ryan_1998\n2006  honorciak                               Gladiator_2000\n7177  honorciak  Władca Pierścieni: Drużyna Pierścienia_2001\n5744   piotrr99                    Skazani na Shawshank_1994\n7433   piotrr99                            Zielona mila_1999\n4163   piotrr99                              Nietykalni_2011\n1867   piotrr99                            Forrest Gump_1994\n5264   piotrr99                            Pulp Fiction_1994\n3621   piotrr99                         Milczenie owiec_1991\n3258   piotrr99                         Leon zawodowiec_1994\n6077   piotrr99                        Szeregowiec Ryan_1998\n2006   piotrr99                               Gladiator_2000\n7177   piotrr99  Władca Pierścieni: Drużyna Pierścienia_2001\n5744   sokoly35                    Skazani na Shawshank_1994\n7433   sokoly35                            Zielona mila_1999\n4163   sokoly35                              Nietykalni_2011\n1867   sokoly35                            Forrest Gump_1994\n5264   sokoly35                            Pulp Fiction_1994\n3621   sokoly35                         Milczenie owiec_1991\n3258   sokoly35                         Leon zawodowiec_1994\n6077   sokoly35                        Szeregowiec Ryan_1998\n2006   sokoly35                               Gladiator_2000\n7177   sokoly35  Władca Pierścieni: Drużyna Pierścienia_2001",
      "text/html": "<div>\n<style scoped>\n    .dataframe tbody tr th:only-of-type {\n        vertical-align: middle;\n    }\n\n    .dataframe tbody tr th {\n        vertical-align: top;\n    }\n\n    .dataframe thead th {\n        text-align: right;\n    }\n</style>\n<table border=\"1\" class=\"dataframe\">\n  <thead>\n    <tr style=\"text-align: right;\">\n      <th></th>\n      <th>User</th>\n      <th>Title</th>\n    </tr>\n  </thead>\n  <tbody>\n    <tr>\n      <th>5744</th>\n      <td>honorciak</td>\n      <td>Skazani na Shawshank_1994</td>\n    </tr>\n    <tr>\n      <th>7433</th>\n      <td>honorciak</td>\n      <td>Zielona mila_1999</td>\n    </tr>\n    <tr>\n      <th>4163</th>\n      <td>honorciak</td>\n      <td>Nietykalni_2011</td>\n    </tr>\n    <tr>\n      <th>1867</th>\n      <td>honorciak</td>\n      <td>Forrest Gump_1994</td>\n    </tr>\n    <tr>\n      <th>5264</th>\n      <td>honorciak</td>\n      <td>Pulp Fiction_1994</td>\n    </tr>\n    <tr>\n      <th>3621</th>\n      <td>honorciak</td>\n      <td>Milczenie owiec_1991</td>\n    </tr>\n    <tr>\n      <th>3258</th>\n      <td>honorciak</td>\n      <td>Leon zawodowiec_1994</td>\n    </tr>\n    <tr>\n      <th>6077</th>\n      <td>honorciak</td>\n      <td>Szeregowiec Ryan_1998</td>\n    </tr>\n    <tr>\n      <th>2006</th>\n      <td>honorciak</td>\n      <td>Gladiator_2000</td>\n    </tr>\n    <tr>\n      <th>7177</th>\n      <td>honorciak</td>\n      <td>Władca Pierścieni: Drużyna Pierścienia_2001</td>\n    </tr>\n    <tr>\n      <th>5744</th>\n      <td>piotrr99</td>\n      <td>Skazani na Shawshank_1994</td>\n    </tr>\n    <tr>\n      <th>7433</th>\n      <td>piotrr99</td>\n      <td>Zielona mila_1999</td>\n    </tr>\n    <tr>\n      <th>4163</th>\n      <td>piotrr99</td>\n      <td>Nietykalni_2011</td>\n    </tr>\n    <tr>\n      <th>1867</th>\n      <td>piotrr99</td>\n      <td>Forrest Gump_1994</td>\n    </tr>\n    <tr>\n      <th>5264</th>\n      <td>piotrr99</td>\n      <td>Pulp Fiction_1994</td>\n    </tr>\n    <tr>\n      <th>3621</th>\n      <td>piotrr99</td>\n      <td>Milczenie owiec_1991</td>\n    </tr>\n    <tr>\n      <th>3258</th>\n      <td>piotrr99</td>\n      <td>Leon zawodowiec_1994</td>\n    </tr>\n    <tr>\n      <th>6077</th>\n      <td>piotrr99</td>\n      <td>Szeregowiec Ryan_1998</td>\n    </tr>\n    <tr>\n      <th>2006</th>\n      <td>piotrr99</td>\n      <td>Gladiator_2000</td>\n    </tr>\n    <tr>\n      <th>7177</th>\n      <td>piotrr99</td>\n      <td>Władca Pierścieni: Drużyna Pierścienia_2001</td>\n    </tr>\n    <tr>\n      <th>5744</th>\n      <td>sokoly35</td>\n      <td>Skazani na Shawshank_1994</td>\n    </tr>\n    <tr>\n      <th>7433</th>\n      <td>sokoly35</td>\n      <td>Zielona mila_1999</td>\n    </tr>\n    <tr>\n      <th>4163</th>\n      <td>sokoly35</td>\n      <td>Nietykalni_2011</td>\n    </tr>\n    <tr>\n      <th>1867</th>\n      <td>sokoly35</td>\n      <td>Forrest Gump_1994</td>\n    </tr>\n    <tr>\n      <th>5264</th>\n      <td>sokoly35</td>\n      <td>Pulp Fiction_1994</td>\n    </tr>\n    <tr>\n      <th>3621</th>\n      <td>sokoly35</td>\n      <td>Milczenie owiec_1991</td>\n    </tr>\n    <tr>\n      <th>3258</th>\n      <td>sokoly35</td>\n      <td>Leon zawodowiec_1994</td>\n    </tr>\n    <tr>\n      <th>6077</th>\n      <td>sokoly35</td>\n      <td>Szeregowiec Ryan_1998</td>\n    </tr>\n    <tr>\n      <th>2006</th>\n      <td>sokoly35</td>\n      <td>Gladiator_2000</td>\n    </tr>\n    <tr>\n      <th>7177</th>\n      <td>sokoly35</td>\n      <td>Władca Pierścieni: Drużyna Pierścienia_2001</td>\n    </tr>\n  </tbody>\n</table>\n</div>"
     },
     "execution_count": 14,
     "metadata": {},
     "output_type": "execute_result"
    }
   ],
   "source": [
    "# example of usage\n",
    "ucs_recommender = UCSRecommender(df_user, df_movie)\n",
    "ucs_recommender.train(df_user)\n",
    "recommendations = ucs_recommender.predict(df_user=df_user_validation, num_of_recomendations=10)\n",
    "\n",
    "decode(recommendations)"
   ],
   "metadata": {
    "collapsed": false,
    "pycharm": {
     "name": "#%%\n"
    }
   }
  },
  {
   "cell_type": "markdown",
   "source": [
    "# 2. Collaborative filtering\n",
    "* user similarity"
   ],
   "metadata": {
    "collapsed": false,
    "pycharm": {
     "name": "#%% md\n"
    }
   }
  },
  {
   "cell_type": "code",
   "execution_count": 15,
   "outputs": [],
   "source": [
    "class CFRecommender(BaseRecommender):\n",
    "    def __init__(self, df_user, df_movie):\n",
    "        super(CFRecommender, self).__init__(df_user, df_movie)\n",
    "        self.algo_SVD = SVD()\n",
    "        # rating scale\n",
    "        # reader = Reader(rating_scale = (1,10))\n",
    "        # self.rating_df = Dataset.load_from_df(df_user[['User','Title', 'Rating']], reader)\n",
    "\n",
    "    def train(self, df_user: Union[pd.DataFrame, None], n_top_movies: int = 20, **kwargs):\n",
    "         reader = Reader(rating_scale = (1,10))\n",
    "         self.rating_df = Dataset.load_from_df(df_user[['User','Title', 'Rating']], reader)\n",
    "\n",
    "         self.algo_SVD.fit(self.rating_df.build_full_trainset())\n",
    "\n",
    "    def predict(self, df_user: pd.DataFrame, num_of_recomendations: int, **kwargs):\n",
    "        recommendations = pd.DataFrame(columns = ['User', 'Title', 'Rating'])\n",
    "        for user in df_user['User'].unique():\n",
    "\n",
    "            user_movies = df_user[df_user['User'] == user]['Title'].unique()\n",
    "\n",
    "            # predict value for each movie in dataset.\n",
    "            pred_list = []\n",
    "            for movie in range(1, len(df_movie.Title.unique())):\n",
    "                rating = self.algo_SVD.predict(user, movie).est\n",
    "                pred_list.append([user, movie, rating])\n",
    "\n",
    "            recommendations_for_user = pd.DataFrame(pred_list, columns = ['User', 'Title', 'Rating'])\n",
    "\n",
    "            # remove already watched movies from recommendations\n",
    "            recommendations_for_user = recommendations_for_user[~ recommendations_for_user['Title'].isin(user_movies)].sort_values('Rating',ascending=False).head(num_of_recomendations)\n",
    "            recommendations = pd.concat([recommendations, recommendations_for_user])\n",
    "        return recommendations"
   ],
   "metadata": {
    "collapsed": false,
    "pycharm": {
     "name": "#%%\n"
    }
   }
  },
  {
   "cell_type": "code",
   "execution_count": 16,
   "outputs": [
    {
     "data": {
      "text/plain": "           User                                           Title    Rating\n1535  honorciak                   Dwunastu gniewnych ludzi_1957  8.567738\n3297  honorciak                           Lista Schindlera_1993  8.471069\n4162  honorciak                                 Nietykalni_2011  8.406124\n5263  honorciak                               Pulp Fiction_1994  8.239491\n2229  honorciak  Harry Potter i Insygnia Śmierci: Część II_2011  8.178782\n6076   piotrr99                           Szeregowiec Ryan_1998  8.682948\n6495   piotrr99        Trzy billboardy za Ebbing, Missouri_2017  8.532370\n3297   piotrr99                           Lista Schindlera_1993  8.523958\n2005   piotrr99                                  Gladiator_2000  8.441833\n6423   piotrr99                          Top Gun: Maverick_2022  8.401216\n5743   sokoly35                       Skazani na Shawshank_1994  8.696538\n4162   sokoly35                                 Nietykalni_2011  8.564115\n3297   sokoly35                           Lista Schindlera_1993  8.444138\n1535   sokoly35                   Dwunastu gniewnych ludzi_1957  8.408228\n4645   sokoly35                                   Parasite_2019  8.360662",
      "text/html": "<div>\n<style scoped>\n    .dataframe tbody tr th:only-of-type {\n        vertical-align: middle;\n    }\n\n    .dataframe tbody tr th {\n        vertical-align: top;\n    }\n\n    .dataframe thead th {\n        text-align: right;\n    }\n</style>\n<table border=\"1\" class=\"dataframe\">\n  <thead>\n    <tr style=\"text-align: right;\">\n      <th></th>\n      <th>User</th>\n      <th>Title</th>\n      <th>Rating</th>\n    </tr>\n  </thead>\n  <tbody>\n    <tr>\n      <th>1535</th>\n      <td>honorciak</td>\n      <td>Dwunastu gniewnych ludzi_1957</td>\n      <td>8.567738</td>\n    </tr>\n    <tr>\n      <th>3297</th>\n      <td>honorciak</td>\n      <td>Lista Schindlera_1993</td>\n      <td>8.471069</td>\n    </tr>\n    <tr>\n      <th>4162</th>\n      <td>honorciak</td>\n      <td>Nietykalni_2011</td>\n      <td>8.406124</td>\n    </tr>\n    <tr>\n      <th>5263</th>\n      <td>honorciak</td>\n      <td>Pulp Fiction_1994</td>\n      <td>8.239491</td>\n    </tr>\n    <tr>\n      <th>2229</th>\n      <td>honorciak</td>\n      <td>Harry Potter i Insygnia Śmierci: Część II_2011</td>\n      <td>8.178782</td>\n    </tr>\n    <tr>\n      <th>6076</th>\n      <td>piotrr99</td>\n      <td>Szeregowiec Ryan_1998</td>\n      <td>8.682948</td>\n    </tr>\n    <tr>\n      <th>6495</th>\n      <td>piotrr99</td>\n      <td>Trzy billboardy za Ebbing, Missouri_2017</td>\n      <td>8.532370</td>\n    </tr>\n    <tr>\n      <th>3297</th>\n      <td>piotrr99</td>\n      <td>Lista Schindlera_1993</td>\n      <td>8.523958</td>\n    </tr>\n    <tr>\n      <th>2005</th>\n      <td>piotrr99</td>\n      <td>Gladiator_2000</td>\n      <td>8.441833</td>\n    </tr>\n    <tr>\n      <th>6423</th>\n      <td>piotrr99</td>\n      <td>Top Gun: Maverick_2022</td>\n      <td>8.401216</td>\n    </tr>\n    <tr>\n      <th>5743</th>\n      <td>sokoly35</td>\n      <td>Skazani na Shawshank_1994</td>\n      <td>8.696538</td>\n    </tr>\n    <tr>\n      <th>4162</th>\n      <td>sokoly35</td>\n      <td>Nietykalni_2011</td>\n      <td>8.564115</td>\n    </tr>\n    <tr>\n      <th>3297</th>\n      <td>sokoly35</td>\n      <td>Lista Schindlera_1993</td>\n      <td>8.444138</td>\n    </tr>\n    <tr>\n      <th>1535</th>\n      <td>sokoly35</td>\n      <td>Dwunastu gniewnych ludzi_1957</td>\n      <td>8.408228</td>\n    </tr>\n    <tr>\n      <th>4645</th>\n      <td>sokoly35</td>\n      <td>Parasite_2019</td>\n      <td>8.360662</td>\n    </tr>\n  </tbody>\n</table>\n</div>"
     },
     "execution_count": 16,
     "metadata": {},
     "output_type": "execute_result"
    }
   ],
   "source": [
    "cf_recommender = CFRecommender(pd.concat([df_user, df_user_validation]), df_movie)\n",
    "cf_recommender.train(pd.concat([df_user, df_user_validation]))\n",
    "recommendations = cf_recommender.predict(df_user_validation, 5)\n",
    "decode(recommendations)"
   ],
   "metadata": {
    "collapsed": false,
    "pycharm": {
     "name": "#%%\n"
    }
   }
  },
  {
   "cell_type": "markdown",
   "source": [
    "# 3. Content based\n",
    "* movie similarity"
   ],
   "metadata": {
    "collapsed": false,
    "pycharm": {
     "name": "#%% md\n"
    }
   }
  },
  {
   "cell_type": "code",
   "execution_count": null,
   "outputs": [],
   "source": [
    "# TODO:"
   ],
   "metadata": {
    "collapsed": false,
    "pycharm": {
     "name": "#%%\n"
    }
   }
  },
  {
   "cell_type": "markdown",
   "source": [
    "# 4. Final model"
   ],
   "metadata": {
    "collapsed": false,
    "pycharm": {
     "name": "#%% md\n"
    }
   }
  },
  {
   "cell_type": "code",
   "execution_count": null,
   "outputs": [],
   "source": [],
   "metadata": {
    "collapsed": false,
    "pycharm": {
     "name": "#%%\n"
    }
   }
  }
 ],
 "metadata": {
  "kernelspec": {
   "display_name": "Python 3",
   "language": "python",
   "name": "python3"
  },
  "language_info": {
   "codemirror_mode": {
    "name": "ipython",
    "version": 2
   },
   "file_extension": ".py",
   "mimetype": "text/x-python",
   "name": "python",
   "nbconvert_exporter": "python",
   "pygments_lexer": "ipython2",
   "version": "2.7.6"
  }
 },
 "nbformat": 4,
 "nbformat_minor": 0
}