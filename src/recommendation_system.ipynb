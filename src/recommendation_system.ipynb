{
 "cells": [
  {
   "cell_type": "code",
   "execution_count": 67,
   "metadata": {
    "collapsed": true
   },
   "outputs": [
    {
     "name": "stdout",
     "output_type": "stream",
     "text": [
      "The autoreload extension is already loaded. To reload it, use:\n",
      "  %reload_ext autoreload\n"
     ]
    }
   ],
   "source": [
    "from __future__ import annotations\n",
    "\n",
    "import pandas as pd\n",
    "%load_ext autoreload\n",
    "%autoreload 2"
   ]
  },
  {
   "cell_type": "code",
   "execution_count": 83,
   "outputs": [],
   "source": [
    "from typing import Union\n",
    "\n",
    "from data_import import load_data\n",
    "from abc import ABC, abstractmethod\n",
    "import pandas as pd"
   ],
   "metadata": {
    "collapsed": false,
    "pycharm": {
     "name": "#%%\n"
    }
   }
  },
  {
   "cell_type": "code",
   "execution_count": 69,
   "outputs": [],
   "source": [
    "# import data\n",
    "df_user, df_movie = load_data()"
   ],
   "metadata": {
    "collapsed": false,
    "pycharm": {
     "name": "#%%\n"
    }
   }
  },
  {
   "cell_type": "markdown",
   "source": [
    "Data cleaning"
   ],
   "metadata": {
    "collapsed": false,
    "pycharm": {
     "name": "#%% md\n"
    }
   }
  },
  {
   "cell_type": "code",
   "execution_count": 70,
   "outputs": [],
   "source": [
    "df_movie = df_movie[df_movie['Avg_rating']<=10]"
   ],
   "metadata": {
    "collapsed": false,
    "pycharm": {
     "name": "#%%\n"
    }
   }
  },
  {
   "cell_type": "markdown",
   "source": [
    "Feature engineering"
   ],
   "metadata": {
    "collapsed": false,
    "pycharm": {
     "name": "#%% md\n"
    }
   }
  },
  {
   "cell_type": "code",
   "execution_count": 71,
   "outputs": [
    {
     "data": {
      "text/plain": "             User            Title  Year  Rating  Avg_user_rating_diff\n0       79villemo  Cząstki kobiety  2020     7.0             -0.014085\n1       79villemo   Palmy w śniegu  2015     7.0             -0.078947\n2       79villemo    Małe kobietki  2019     8.0              0.081081\n3       79villemo    Kwiat pustyni  2009     7.0             -0.090909\n4       79villemo               To  2017     6.0             -0.104478\n...           ...              ...   ...     ...                   ...\n37114  _paranoid_             Nie!  2022     7.0              0.147541\n37115  _paranoid_           Titane  2021     NaN                   NaN\n37116  _paranoid_    W głowie kota  2022     7.0              0.093750\n37117  _paranoid_    Lekcje języka  2021     7.0              0.029412\n37118  _paranoid_      Bez wyjścia  2022     5.0             -0.122807\n\n[37119 rows x 5 columns]",
      "text/html": "<div>\n<style scoped>\n    .dataframe tbody tr th:only-of-type {\n        vertical-align: middle;\n    }\n\n    .dataframe tbody tr th {\n        vertical-align: top;\n    }\n\n    .dataframe thead th {\n        text-align: right;\n    }\n</style>\n<table border=\"1\" class=\"dataframe\">\n  <thead>\n    <tr style=\"text-align: right;\">\n      <th></th>\n      <th>User</th>\n      <th>Title</th>\n      <th>Year</th>\n      <th>Rating</th>\n      <th>Avg_user_rating_diff</th>\n    </tr>\n  </thead>\n  <tbody>\n    <tr>\n      <th>0</th>\n      <td>79villemo</td>\n      <td>Cząstki kobiety</td>\n      <td>2020</td>\n      <td>7.0</td>\n      <td>-0.014085</td>\n    </tr>\n    <tr>\n      <th>1</th>\n      <td>79villemo</td>\n      <td>Palmy w śniegu</td>\n      <td>2015</td>\n      <td>7.0</td>\n      <td>-0.078947</td>\n    </tr>\n    <tr>\n      <th>2</th>\n      <td>79villemo</td>\n      <td>Małe kobietki</td>\n      <td>2019</td>\n      <td>8.0</td>\n      <td>0.081081</td>\n    </tr>\n    <tr>\n      <th>3</th>\n      <td>79villemo</td>\n      <td>Kwiat pustyni</td>\n      <td>2009</td>\n      <td>7.0</td>\n      <td>-0.090909</td>\n    </tr>\n    <tr>\n      <th>4</th>\n      <td>79villemo</td>\n      <td>To</td>\n      <td>2017</td>\n      <td>6.0</td>\n      <td>-0.104478</td>\n    </tr>\n    <tr>\n      <th>...</th>\n      <td>...</td>\n      <td>...</td>\n      <td>...</td>\n      <td>...</td>\n      <td>...</td>\n    </tr>\n    <tr>\n      <th>37114</th>\n      <td>_paranoid_</td>\n      <td>Nie!</td>\n      <td>2022</td>\n      <td>7.0</td>\n      <td>0.147541</td>\n    </tr>\n    <tr>\n      <th>37115</th>\n      <td>_paranoid_</td>\n      <td>Titane</td>\n      <td>2021</td>\n      <td>NaN</td>\n      <td>NaN</td>\n    </tr>\n    <tr>\n      <th>37116</th>\n      <td>_paranoid_</td>\n      <td>W głowie kota</td>\n      <td>2022</td>\n      <td>7.0</td>\n      <td>0.093750</td>\n    </tr>\n    <tr>\n      <th>37117</th>\n      <td>_paranoid_</td>\n      <td>Lekcje języka</td>\n      <td>2021</td>\n      <td>7.0</td>\n      <td>0.029412</td>\n    </tr>\n    <tr>\n      <th>37118</th>\n      <td>_paranoid_</td>\n      <td>Bez wyjścia</td>\n      <td>2022</td>\n      <td>5.0</td>\n      <td>-0.122807</td>\n    </tr>\n  </tbody>\n</table>\n<p>37119 rows × 5 columns</p>\n</div>"
     },
     "execution_count": 71,
     "metadata": {},
     "output_type": "execute_result"
    }
   ],
   "source": [
    "# percentage difference between user rating and average rating (user-avg)/avg\n",
    "\n",
    "df_user_temp = df_user.merge(df_movie.groupby(['Title', 'Year'])['Avg_rating'].max().reset_index(), on=['Title','Year'], how='left')\n",
    "\n",
    "df_user['Avg_user_rating_diff'] = (df_user_temp['Rating'] - df_user_temp['Avg_rating'])/df_user_temp['Avg_rating']\n",
    "df_user"
   ],
   "metadata": {
    "collapsed": false,
    "pycharm": {
     "name": "#%%\n"
    }
   }
  },
  {
   "cell_type": "markdown",
   "source": [
    "Preparing final users to validate. Us."
   ],
   "metadata": {
    "collapsed": false,
    "pycharm": {
     "name": "#%% md\n"
    }
   }
  },
  {
   "cell_type": "code",
   "execution_count": 72,
   "outputs": [],
   "source": [
    "val_user_list = ['sokoly35', 'honorciak', 'piotrr99']\n",
    "df_user_validation = df_user[df_user['User'].isin(val_user_list)]\n",
    "\n",
    "# exclude us from df_user\n",
    "df_user = df_user[~df_user.index.isin(df_user_validation.index)]"
   ],
   "metadata": {
    "collapsed": false,
    "pycharm": {
     "name": "#%%\n"
    }
   }
  },
  {
   "cell_type": "code",
   "execution_count": 73,
   "outputs": [
    {
     "data": {
      "text/plain": "            User                                      Title  Year  Rating  \\\n9900   honorciak                       Skazani na Shawshank  1994     9.0   \n9901   honorciak                               Zielona mila  1999    10.0   \n9902   honorciak                                       Anna  2019     6.0   \n9903   honorciak  Gwiezdne wojny: Część III - Zemsta Sithów  2005     3.0   \n9904   honorciak                    Cztery wesela i pogrzeb  1994     7.0   \n...          ...                                        ...   ...     ...   \n32486   sokoly35                         Teoria wszystkiego  2014     8.0   \n32487   sokoly35                                   Iron Man  2008     7.0   \n32488   sokoly35                                     Iluzja  2013     7.0   \n32489   sokoly35                                      Zjawa  2015     5.0   \n32490   sokoly35                                   Deadpool  2016     7.0   \n\n       Avg_user_rating_diff  \n9900               0.022727  \n9901               0.162791  \n9902              -0.076923  \n9903              -0.605263  \n9904               0.014493  \n...                     ...  \n32486              0.052632  \n32487             -0.078947  \n32488             -0.054054  \n32489             -0.305556  \n32490             -0.078947  \n\n[248 rows x 5 columns]",
      "text/html": "<div>\n<style scoped>\n    .dataframe tbody tr th:only-of-type {\n        vertical-align: middle;\n    }\n\n    .dataframe tbody tr th {\n        vertical-align: top;\n    }\n\n    .dataframe thead th {\n        text-align: right;\n    }\n</style>\n<table border=\"1\" class=\"dataframe\">\n  <thead>\n    <tr style=\"text-align: right;\">\n      <th></th>\n      <th>User</th>\n      <th>Title</th>\n      <th>Year</th>\n      <th>Rating</th>\n      <th>Avg_user_rating_diff</th>\n    </tr>\n  </thead>\n  <tbody>\n    <tr>\n      <th>9900</th>\n      <td>honorciak</td>\n      <td>Skazani na Shawshank</td>\n      <td>1994</td>\n      <td>9.0</td>\n      <td>0.022727</td>\n    </tr>\n    <tr>\n      <th>9901</th>\n      <td>honorciak</td>\n      <td>Zielona mila</td>\n      <td>1999</td>\n      <td>10.0</td>\n      <td>0.162791</td>\n    </tr>\n    <tr>\n      <th>9902</th>\n      <td>honorciak</td>\n      <td>Anna</td>\n      <td>2019</td>\n      <td>6.0</td>\n      <td>-0.076923</td>\n    </tr>\n    <tr>\n      <th>9903</th>\n      <td>honorciak</td>\n      <td>Gwiezdne wojny: Część III - Zemsta Sithów</td>\n      <td>2005</td>\n      <td>3.0</td>\n      <td>-0.605263</td>\n    </tr>\n    <tr>\n      <th>9904</th>\n      <td>honorciak</td>\n      <td>Cztery wesela i pogrzeb</td>\n      <td>1994</td>\n      <td>7.0</td>\n      <td>0.014493</td>\n    </tr>\n    <tr>\n      <th>...</th>\n      <td>...</td>\n      <td>...</td>\n      <td>...</td>\n      <td>...</td>\n      <td>...</td>\n    </tr>\n    <tr>\n      <th>32486</th>\n      <td>sokoly35</td>\n      <td>Teoria wszystkiego</td>\n      <td>2014</td>\n      <td>8.0</td>\n      <td>0.052632</td>\n    </tr>\n    <tr>\n      <th>32487</th>\n      <td>sokoly35</td>\n      <td>Iron Man</td>\n      <td>2008</td>\n      <td>7.0</td>\n      <td>-0.078947</td>\n    </tr>\n    <tr>\n      <th>32488</th>\n      <td>sokoly35</td>\n      <td>Iluzja</td>\n      <td>2013</td>\n      <td>7.0</td>\n      <td>-0.054054</td>\n    </tr>\n    <tr>\n      <th>32489</th>\n      <td>sokoly35</td>\n      <td>Zjawa</td>\n      <td>2015</td>\n      <td>5.0</td>\n      <td>-0.305556</td>\n    </tr>\n    <tr>\n      <th>32490</th>\n      <td>sokoly35</td>\n      <td>Deadpool</td>\n      <td>2016</td>\n      <td>7.0</td>\n      <td>-0.078947</td>\n    </tr>\n  </tbody>\n</table>\n<p>248 rows × 5 columns</p>\n</div>"
     },
     "execution_count": 73,
     "metadata": {},
     "output_type": "execute_result"
    }
   ],
   "source": [
    "df_user_validation"
   ],
   "metadata": {
    "collapsed": false,
    "pycharm": {
     "name": "#%%\n"
    }
   }
  },
  {
   "cell_type": "markdown",
   "source": [
    "# 0. model"
   ],
   "metadata": {
    "collapsed": false,
    "pycharm": {
     "name": "#%% md\n"
    }
   }
  },
  {
   "cell_type": "code",
   "execution_count": 81,
   "outputs": [],
   "source": [
    "\n",
    "\n",
    "\n",
    "class BaseRecommender(ABC):\n",
    "    \"\"\" Base abstract class for recommendation techniques.\"\"\"\n",
    "    def train(self, df_user: Union[pd.DataFrame, None], df_movie: pd.DataFrame, **kwargs):\n",
    "        raise NotImplementedError\n",
    "    def fit(self, df_user: pd.DataFrame, num_of_recomendations: int, **kwargs):\n",
    "        raise NotImplementedError"
   ],
   "metadata": {
    "collapsed": false,
    "pycharm": {
     "name": "#%%\n"
    }
   }
  },
  {
   "cell_type": "markdown",
   "source": [
    "# 1. User cold start\n",
    "* recommendation based on popularity and overall rating of the movie for users with not many rated movies\n",
    "* we have no data about the user (age, gender, ...) so we don't use it as a feature in collaborative filtering."
   ],
   "metadata": {
    "collapsed": false,
    "pycharm": {
     "name": "#%% md\n"
    }
   }
  },
  {
   "cell_type": "code",
   "execution_count": 97,
   "outputs": [],
   "source": [
    "class UCSRecommender(BaseRecommender):\n",
    "    \"\"\" user cold start recommender.\n",
    "    Take n_top_movies and recommend them in order based on Avg_rating.\"\"\"\n",
    "    movie = None\n",
    "    recommendation_table = None\n",
    "\n",
    "    def train(self, df_user: Union[pd.DataFrame, None], df_movie: pd.DataFrame, n_top_movies: int = 20, **kwargs):\n",
    "        self.movie = df_movie\n",
    "        self.recommendation_table = df_movie.groupby(['Title', 'Year'])[['Avg_rating', 'Number_of_ratings']].min().reset_index().sort_values('Number_of_ratings', ascending=False).head(n_top_movies).sort_values('Avg_rating', ascending=False)\n",
    "\n",
    "    def fit(self, df_user: pd.DataFrame, num_of_recomendations: int, **kwargs):\n",
    "        recommendations = pd.DataFrame(columns=['User', 'Title', 'Year'])\n",
    "        for user in df_user['User'].unique():\n",
    "            recommendations_for_user = self.recommendation_table.head(num_of_recomendations)[['Title', 'Year']]\n",
    "            recommendations_for_user['User'] = user\n",
    "            recommendations = pd.concat([recommendations, recommendations_for_user])\n",
    "        return recommendations"
   ],
   "metadata": {
    "collapsed": false,
    "pycharm": {
     "name": "#%%\n"
    }
   }
  },
  {
   "cell_type": "code",
   "execution_count": 98,
   "outputs": [
    {
     "data": {
      "text/plain": "           User                                   Title  Year\n5744  honorciak                    Skazani na Shawshank  1994\n7433  honorciak                            Zielona mila  1999\n4163  honorciak                              Nietykalni  2011\n1867  honorciak                            Forrest Gump  1994\n5264  honorciak                            Pulp Fiction  1994\n3621  honorciak                         Milczenie owiec  1991\n3258  honorciak                         Leon zawodowiec  1994\n6077  honorciak                        Szeregowiec Ryan  1998\n2006  honorciak                               Gladiator  2000\n7177  honorciak  Władca Pierścieni: Drużyna Pierścienia  2001\n5744   piotrr99                    Skazani na Shawshank  1994\n7433   piotrr99                            Zielona mila  1999\n4163   piotrr99                              Nietykalni  2011\n1867   piotrr99                            Forrest Gump  1994\n5264   piotrr99                            Pulp Fiction  1994\n3621   piotrr99                         Milczenie owiec  1991\n3258   piotrr99                         Leon zawodowiec  1994\n6077   piotrr99                        Szeregowiec Ryan  1998\n2006   piotrr99                               Gladiator  2000\n7177   piotrr99  Władca Pierścieni: Drużyna Pierścienia  2001\n5744   sokoly35                    Skazani na Shawshank  1994\n7433   sokoly35                            Zielona mila  1999\n4163   sokoly35                              Nietykalni  2011\n1867   sokoly35                            Forrest Gump  1994\n5264   sokoly35                            Pulp Fiction  1994\n3621   sokoly35                         Milczenie owiec  1991\n3258   sokoly35                         Leon zawodowiec  1994\n6077   sokoly35                        Szeregowiec Ryan  1998\n2006   sokoly35                               Gladiator  2000\n7177   sokoly35  Władca Pierścieni: Drużyna Pierścienia  2001",
      "text/html": "<div>\n<style scoped>\n    .dataframe tbody tr th:only-of-type {\n        vertical-align: middle;\n    }\n\n    .dataframe tbody tr th {\n        vertical-align: top;\n    }\n\n    .dataframe thead th {\n        text-align: right;\n    }\n</style>\n<table border=\"1\" class=\"dataframe\">\n  <thead>\n    <tr style=\"text-align: right;\">\n      <th></th>\n      <th>User</th>\n      <th>Title</th>\n      <th>Year</th>\n    </tr>\n  </thead>\n  <tbody>\n    <tr>\n      <th>5744</th>\n      <td>honorciak</td>\n      <td>Skazani na Shawshank</td>\n      <td>1994</td>\n    </tr>\n    <tr>\n      <th>7433</th>\n      <td>honorciak</td>\n      <td>Zielona mila</td>\n      <td>1999</td>\n    </tr>\n    <tr>\n      <th>4163</th>\n      <td>honorciak</td>\n      <td>Nietykalni</td>\n      <td>2011</td>\n    </tr>\n    <tr>\n      <th>1867</th>\n      <td>honorciak</td>\n      <td>Forrest Gump</td>\n      <td>1994</td>\n    </tr>\n    <tr>\n      <th>5264</th>\n      <td>honorciak</td>\n      <td>Pulp Fiction</td>\n      <td>1994</td>\n    </tr>\n    <tr>\n      <th>3621</th>\n      <td>honorciak</td>\n      <td>Milczenie owiec</td>\n      <td>1991</td>\n    </tr>\n    <tr>\n      <th>3258</th>\n      <td>honorciak</td>\n      <td>Leon zawodowiec</td>\n      <td>1994</td>\n    </tr>\n    <tr>\n      <th>6077</th>\n      <td>honorciak</td>\n      <td>Szeregowiec Ryan</td>\n      <td>1998</td>\n    </tr>\n    <tr>\n      <th>2006</th>\n      <td>honorciak</td>\n      <td>Gladiator</td>\n      <td>2000</td>\n    </tr>\n    <tr>\n      <th>7177</th>\n      <td>honorciak</td>\n      <td>Władca Pierścieni: Drużyna Pierścienia</td>\n      <td>2001</td>\n    </tr>\n    <tr>\n      <th>5744</th>\n      <td>piotrr99</td>\n      <td>Skazani na Shawshank</td>\n      <td>1994</td>\n    </tr>\n    <tr>\n      <th>7433</th>\n      <td>piotrr99</td>\n      <td>Zielona mila</td>\n      <td>1999</td>\n    </tr>\n    <tr>\n      <th>4163</th>\n      <td>piotrr99</td>\n      <td>Nietykalni</td>\n      <td>2011</td>\n    </tr>\n    <tr>\n      <th>1867</th>\n      <td>piotrr99</td>\n      <td>Forrest Gump</td>\n      <td>1994</td>\n    </tr>\n    <tr>\n      <th>5264</th>\n      <td>piotrr99</td>\n      <td>Pulp Fiction</td>\n      <td>1994</td>\n    </tr>\n    <tr>\n      <th>3621</th>\n      <td>piotrr99</td>\n      <td>Milczenie owiec</td>\n      <td>1991</td>\n    </tr>\n    <tr>\n      <th>3258</th>\n      <td>piotrr99</td>\n      <td>Leon zawodowiec</td>\n      <td>1994</td>\n    </tr>\n    <tr>\n      <th>6077</th>\n      <td>piotrr99</td>\n      <td>Szeregowiec Ryan</td>\n      <td>1998</td>\n    </tr>\n    <tr>\n      <th>2006</th>\n      <td>piotrr99</td>\n      <td>Gladiator</td>\n      <td>2000</td>\n    </tr>\n    <tr>\n      <th>7177</th>\n      <td>piotrr99</td>\n      <td>Władca Pierścieni: Drużyna Pierścienia</td>\n      <td>2001</td>\n    </tr>\n    <tr>\n      <th>5744</th>\n      <td>sokoly35</td>\n      <td>Skazani na Shawshank</td>\n      <td>1994</td>\n    </tr>\n    <tr>\n      <th>7433</th>\n      <td>sokoly35</td>\n      <td>Zielona mila</td>\n      <td>1999</td>\n    </tr>\n    <tr>\n      <th>4163</th>\n      <td>sokoly35</td>\n      <td>Nietykalni</td>\n      <td>2011</td>\n    </tr>\n    <tr>\n      <th>1867</th>\n      <td>sokoly35</td>\n      <td>Forrest Gump</td>\n      <td>1994</td>\n    </tr>\n    <tr>\n      <th>5264</th>\n      <td>sokoly35</td>\n      <td>Pulp Fiction</td>\n      <td>1994</td>\n    </tr>\n    <tr>\n      <th>3621</th>\n      <td>sokoly35</td>\n      <td>Milczenie owiec</td>\n      <td>1991</td>\n    </tr>\n    <tr>\n      <th>3258</th>\n      <td>sokoly35</td>\n      <td>Leon zawodowiec</td>\n      <td>1994</td>\n    </tr>\n    <tr>\n      <th>6077</th>\n      <td>sokoly35</td>\n      <td>Szeregowiec Ryan</td>\n      <td>1998</td>\n    </tr>\n    <tr>\n      <th>2006</th>\n      <td>sokoly35</td>\n      <td>Gladiator</td>\n      <td>2000</td>\n    </tr>\n    <tr>\n      <th>7177</th>\n      <td>sokoly35</td>\n      <td>Władca Pierścieni: Drużyna Pierścienia</td>\n      <td>2001</td>\n    </tr>\n  </tbody>\n</table>\n</div>"
     },
     "execution_count": 98,
     "metadata": {},
     "output_type": "execute_result"
    }
   ],
   "source": [
    "# example of usage\n",
    "ucs_recommender = UCSRecommender()\n",
    "ucs_recommender.train(df_user, df_movie)\n",
    "ucs_recommender.fit(df_user=df_user_validation, num_of_recomendations=10)"
   ],
   "metadata": {
    "collapsed": false,
    "pycharm": {
     "name": "#%%\n"
    }
   }
  },
  {
   "cell_type": "code",
   "execution_count": null,
   "outputs": [],
   "source": [],
   "metadata": {
    "collapsed": false,
    "pycharm": {
     "name": "#%%\n"
    }
   }
  },
  {
   "cell_type": "markdown",
   "source": [
    "# 2. Collaborative filtering\n",
    "* user similarity"
   ],
   "metadata": {
    "collapsed": false,
    "pycharm": {
     "name": "#%% md\n"
    }
   }
  },
  {
   "cell_type": "code",
   "execution_count": null,
   "outputs": [],
   "source": [
    "# TODO:"
   ],
   "metadata": {
    "collapsed": false,
    "pycharm": {
     "name": "#%%\n"
    }
   }
  },
  {
   "cell_type": "markdown",
   "source": [
    "# 3. Content based\n",
    "* movie similarity"
   ],
   "metadata": {
    "collapsed": false,
    "pycharm": {
     "name": "#%% md\n"
    }
   }
  },
  {
   "cell_type": "code",
   "execution_count": null,
   "outputs": [],
   "source": [
    "# TODO:"
   ],
   "metadata": {
    "collapsed": false,
    "pycharm": {
     "name": "#%%\n"
    }
   }
  },
  {
   "cell_type": "markdown",
   "source": [
    "# 4. Final model"
   ],
   "metadata": {
    "collapsed": false,
    "pycharm": {
     "name": "#%% md\n"
    }
   }
  },
  {
   "cell_type": "code",
   "execution_count": null,
   "outputs": [],
   "source": [],
   "metadata": {
    "collapsed": false,
    "pycharm": {
     "name": "#%%\n"
    }
   }
  }
 ],
 "metadata": {
  "kernelspec": {
   "display_name": "Python 3",
   "language": "python",
   "name": "python3"
  },
  "language_info": {
   "codemirror_mode": {
    "name": "ipython",
    "version": 2
   },
   "file_extension": ".py",
   "mimetype": "text/x-python",
   "name": "python",
   "nbconvert_exporter": "python",
   "pygments_lexer": "ipython2",
   "version": "2.7.6"
  }
 },
 "nbformat": 4,
 "nbformat_minor": 0
}